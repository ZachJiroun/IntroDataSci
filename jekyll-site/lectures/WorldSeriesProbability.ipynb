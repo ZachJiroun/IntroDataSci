{
 "metadata": {
  "name": "",
  "signature": "sha256:9a0112c9f6500544319fb3fb1064417fb9549419339f5cef90afa1fd8a76039a"
 },
 "nbformat": 3,
 "nbformat_minor": 0,
 "worksheets": [
  {
   "cells": [
    {
     "cell_type": "markdown",
     "metadata": {},
     "source": [
      "##World Series Odds Problem\n",
      "\n",
      "$p$: probability that team A wins a game between team and B\n",
      "$q=(1-p)$: probability that team B wins\n",
      "\n",
      "Suppose A and B play a series until one wins $n$ games.\n",
      "\n",
      "Denote $P(i,j)$ as the probability that A wins the series when:\n",
      "  A needs to win $i$ more games\n",
      "  B needs to win $j$ more games\n",
      "  \n",
      "**Question**: What's the probability that team A wins a best-of-seven series?"
     ]
    },
    {
     "cell_type": "markdown",
     "metadata": {},
     "source": [
      "**Answer**:$P(4,4)$"
     ]
    },
    {
     "cell_type": "code",
     "collapsed": false,
     "input": [],
     "language": "python",
     "metadata": {},
     "outputs": []
    },
    {
     "cell_type": "markdown",
     "metadata": {},
     "source": [
      "Let's solve this problem recursively!\n",
      "\n",
      "**Question**: What's the probability that A wins the series when B needs 0 more games to win?$P(i,0)=0$\n",
      "\n",
      "**Question**: What's the probability that A wins the series when A needs 0 more games to win?$P(0,j)=1.$\n",
      "\n",
      "**Question**: What's the probability that A wins the series when both teams need to win one more game? $P(1,1)=p$\n",
      "\n",
      "**Question**: What's the probability that A wins the series when A needs $i$ more wins and B needs $j$ more wins? $P(i,j) = p \\times P(i-1,j) + q \\times P(i,j-1)$ \n",
      "\n"
     ]
    },
    {
     "cell_type": "code",
     "collapsed": false,
     "input": [],
     "language": "python",
     "metadata": {},
     "outputs": []
    },
    {
     "cell_type": "code",
     "collapsed": false,
     "input": [
      "import numpy as np\n",
      "\n",
      "def worldseriesodds(n, awins):\n",
      "    bwins = 1. - awins\n",
      "    # allocate matrix\n",
      "    p = np.zeros((n+1,n+1))\n",
      "    # initialize\n",
      "    for i in xrange(n+1):\n",
      "        p[i,0] = 0.\n",
      "    for j in xrange(n+1):\n",
      "        p[0,j] = 1.\n",
      "    # do recursive computation\n",
      "    for i in xrange(1,n+1):\n",
      "        for j in xrange(1, n+1):\n",
      "            p[i,j] = awins * p[i-1,j] + bwins * p[i,j-1]\n",
      "    # return answer\n",
      "    return p[n,n]\n",
      "    "
     ],
     "language": "python",
     "metadata": {},
     "outputs": [],
     "prompt_number": 1
    },
    {
     "cell_type": "code",
     "collapsed": false,
     "input": [
      "print worldseriesodds(4, .8)"
     ],
     "language": "python",
     "metadata": {},
     "outputs": [
      {
       "output_type": "stream",
       "stream": "stdout",
       "text": [
        "0.966656\n"
       ]
      }
     ],
     "prompt_number": 5
    },
    {
     "cell_type": "code",
     "collapsed": false,
     "input": [
      "print worldseriesodds(2, .8)"
     ],
     "language": "python",
     "metadata": {},
     "outputs": [
      {
       "output_type": "stream",
       "stream": "stdout",
       "text": [
        "0.896\n"
       ]
      }
     ],
     "prompt_number": 6
    },
    {
     "cell_type": "code",
     "collapsed": false,
     "input": [],
     "language": "python",
     "metadata": {},
     "outputs": []
    },
    {
     "cell_type": "code",
     "collapsed": false,
     "input": [],
     "language": "python",
     "metadata": {},
     "outputs": []
    },
    {
     "cell_type": "code",
     "collapsed": false,
     "input": [],
     "language": "python",
     "metadata": {},
     "outputs": []
    }
   ],
   "metadata": {}
  }
 ]
}